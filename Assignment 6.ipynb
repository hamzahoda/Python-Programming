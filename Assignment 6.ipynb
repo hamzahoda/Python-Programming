{
 "cells": [
  {
   "cell_type": "markdown",
   "metadata": {},
   "source": [
    "Part1\n",
    "Object-oriented programming: \n",
    "As the name suggests, Object-Oriented Programming or OOPs refers to languages that uses objects in programming. Object-oriented programming aims to implement real-world entities like inheritance, hiding, polymorphism etc in programming. The main aim of OOP is to bind together the data and the functions that operate on them so that no other part of the code can access this data except that function."
   ]
  },
  {
   "cell_type": "markdown",
   "metadata": {},
   "source": [
    "Part2\n",
    "Benefits of OOP:\n",
    "1)Modularity for easier troubleshooting.\n",
    "2)Reuse of code through inheritance.\n",
    "3)Flexibility through polymorphism.\n",
    "4)Effective problem solving.\n",
    "5)Security With the use of data hiding and abstraction mechanism"
   ]
  },
  {
   "cell_type": "markdown",
   "metadata": {},
   "source": [
    "Part3 (Differentiate between function and method)\n",
    "A function is a piece of code that is called by name. It can be passed data to operate on (i.e. the parameters) and can optionally return data (the return value). All data that is passed to a function is explicitly passed.\n",
    "\n",
    "A method is a piece of code that is called by a name that is associated with an object. In most respects it is identical to a function except for two key differences:\n",
    "\n",
    "A method is implicitly passed the object on which it was called.\n",
    "A method is able to operate on data that is contained within the class (remembering that an object is an instance of a class - the class is the definition, the object is an instance of that data)."
   ]
  },
  {
   "cell_type": "markdown",
   "metadata": {},
   "source": [
    "Part 4 (Define)\n",
    "Class: Class is a template for multiple objects with similar features. Classes embody all the features of a particular set of objects.A Class is like an object constructor, or a \"blueprint\" for creating objects.\n",
    "\n",
    "Object: Objects are real, have a state and occupy memory.They are Created/instantiated from a class specification and cannot exist without a class.There can be multiple objects of a class, each will have its own properties\n",
    "\n",
    "Attributes:\n",
    "ClassAttributes : Class Attributes belong to the class itself they will be shared by all the instances. Such attributes are defined in the class body parts usually at the top, for legibility.\n",
    "InstanceAttributes: Unlike class attributes, instance attributes are not shared by objects. Every object has its own copy of the instance attribute (In case of class attributes all object refer to single copy).\n",
    "\n",
    "Behaviour: The behavior of an object is defined by its methods, which are the functions and subroutines defined within the object class. Without class methods, a class would simply be a structure.\n",
    "\n"
   ]
  },
  {
   "cell_type": "code",
   "execution_count": null,
   "metadata": {},
   "outputs": [],
   "source": [
    "# Part 5\n",
    "class Car():\n",
    "    def __init__(self,name,make,color,Topspeed,year):\n",
    "        self.name = name\n",
    "        self.make = make\n",
    "        self.color = color\n",
    "        self.Topspeed = Topspeed\n",
    "        self.year = year\n",
    "    \n",
    "    def updatecolor(self,newcolor):\n",
    "        self.color=newcolor\n",
    "        \n",
    "    def updatename(self,newname):\n",
    "        self.name=newname\n",
    "        \n",
    "    def updatemodel(self,newmake):\n",
    "        self.make=newmake\n",
    "        \n",
    "    \n",
    "\n",
    "Car1=Car(\"Corolla\",\"Toyota\",\"Black\",220,\"2019\")\n",
    "print(Car1)\n",
    "print(Car1.name) \n",
    "print(Car1.make) \n",
    "print(Car1.color) \n",
    "print(Car1.Topspeed) \n",
    "print(Car1.year)\n",
    "\n",
    "Car2=Car(\"Mehran\",\"Suzuki\",\"White\",140,\"2019\")\n",
    "print(Car2)\n",
    "print(Car2.name) \n",
    "print(Car2.make) \n",
    "print(Car2.color) \n",
    "print(Car2.Topspeed) \n",
    "print(Car2.year)\n",
    "\n",
    "\n",
    "\n",
    "Car3=Car(\"Mercedes AMG\",\"Mercedes Benz\",\"Pearl White\",310,\"2019\")\n",
    "print(Car3)\n",
    "print(Car3.name) \n",
    "print(Car3.make) \n",
    "print(Car3.color) \n",
    "print(Car3.Topspeed) \n",
    "print(Car3.year)\n",
    "\n",
    "\n",
    "Car4=Car(\"Civic\",\"Honda\",\"Red\",272,2019)\n",
    "print(Car4)\n",
    "print(Car4.name) \n",
    "print(Car4.make) \n",
    "print(Car4.color) \n",
    "print(Car4.Topspeed) \n",
    "print(Car4.year)\n",
    "\n",
    "\n",
    "Car5=Car(\"KIA Sportage\",\"KIA\",181,\"Sparkling Silver\",\"2019\")\n",
    "print(Car5)\n",
    "print(Car5.name) \n",
    "print(Car5.make) \n",
    "print(Car5.color) \n",
    "print(Car5.Topspeed) \n",
    "print(Car5.year)\n",
    "        "
   ]
  }
 ],
 "metadata": {
  "kernelspec": {
   "display_name": "Python 3",
   "language": "python",
   "name": "python3"
  },
  "language_info": {
   "codemirror_mode": {
    "name": "ipython",
    "version": 3
   },
   "file_extension": ".py",
   "mimetype": "text/x-python",
   "name": "python",
   "nbconvert_exporter": "python",
   "pygments_lexer": "ipython3",
   "version": "3.7.3"
  }
 },
 "nbformat": 4,
 "nbformat_minor": 2
}
