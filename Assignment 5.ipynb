{
 "cells": [
  {
   "cell_type": "code",
   "execution_count": 1,
   "metadata": {},
   "outputs": [
    {
     "name": "stdout",
     "output_type": "stream",
     "text": [
      "24\n"
     ]
    }
   ],
   "source": [
    "# Part 1\n",
    "import math\n",
    "def factorial(number):\n",
    "    print(math.factorial(number))\n",
    "    \n",
    "    \n",
    "factorial(4)\n"
   ]
  },
  {
   "cell_type": "code",
   "execution_count": 2,
   "metadata": {},
   "outputs": [
    {
     "name": "stdout",
     "output_type": "stream",
     "text": [
      "HamZa\n",
      "Uppercase - 2\n",
      "Lowercase - 3\n"
     ]
    }
   ],
   "source": [
    "# Part 2\n",
    "def length_of_string():\n",
    "    countlower=0\n",
    "    countupper=0\n",
    "    name=input()\n",
    "    for a in name:\n",
    "        if (a.isupper()) == True: \n",
    "            countupper += 1\n",
    "        elif (a.islower()) == True: \n",
    "            countlower += 1\n",
    "    print(\"Uppercase -\", countupper) \n",
    "    print(\"Lowercase -\", countlower)\n",
    "            \n",
    "length_of_string()"
   ]
  },
  {
   "cell_type": "code",
   "execution_count": 3,
   "metadata": {},
   "outputs": [
    {
     "name": "stdout",
     "output_type": "stream",
     "text": [
      "2\n",
      "4\n",
      "6\n",
      "8\n",
      "10\n",
      "12\n",
      "14\n",
      "16\n"
     ]
    }
   ],
   "source": [
    "# #Part 3\n",
    "numbers=[1,3,2,5,4,6,7,8,10,9,14,13,12,15,16]\n",
    "def even_numbers(number):\n",
    "    numbers.sort()\n",
    "    for i in number:\n",
    "        if i % 2 ==0:\n",
    "            print(i)\n",
    "even_numbers(numbers)     \n",
    "    "
   ]
  },
  {
   "cell_type": "code",
   "execution_count": 4,
   "metadata": {},
   "outputs": [
    {
     "name": "stdout",
     "output_type": "stream",
     "text": [
      "madam\n",
      "madam\n",
      "It's a palindrome\n"
     ]
    }
   ],
   "source": [
    "# Part 4\n",
    "def reverse():\n",
    "    name=input()\n",
    "    reverse_name = name[::-1] \n",
    "    print(reverse_name)\n",
    "    if reverse_name==name:\n",
    "        print(\"It's a palindrome\")\n",
    "    else:\n",
    "        print(\"It's not a palindrome\")\n",
    "\n",
    "reverse()        \n",
    "        \n",
    "    \n",
    "\n",
    "\n",
    "\n"
   ]
  },
  {
   "cell_type": "code",
   "execution_count": 5,
   "metadata": {},
   "outputs": [
    {
     "name": "stdout",
     "output_type": "stream",
     "text": [
      "15 is not a prime number\n"
     ]
    }
   ],
   "source": [
    "# Part 5\n",
    "def prime_number(number):\n",
    "    if number > 1:\n",
    "        for i in range(2, number):\n",
    "            if (number % i) == 0:\n",
    "                print(number, \"is not a prime number\")\n",
    "                break\n",
    "        else:\n",
    "            print(number, \"is a prime number\")\n",
    "\n",
    "\n",
    "    else:\n",
    "        print(number, \"is not a prime number\")\n",
    "        \n",
    "prime_number(15)        "
   ]
  },
  {
   "cell_type": "code",
   "execution_count": 6,
   "metadata": {},
   "outputs": [
    {
     "name": "stdout",
     "output_type": "stream",
     "text": [
      "banana\n",
      "apple\n",
      "milk\n",
      "cheese\n"
     ]
    }
   ],
   "source": [
    "# Part 6\n",
    "def shopping_list(*items):\n",
    "    for i in items:\n",
    "        print(i)\n",
    "\n",
    "shopping_list(\"banana\",\"apple\",\"milk\",\"cheese\")     \n"
   ]
  },
  {
   "cell_type": "code",
   "execution_count": null,
   "metadata": {},
   "outputs": [],
   "source": []
  }
 ],
 "metadata": {
  "kernelspec": {
   "display_name": "Python 3",
   "language": "python",
   "name": "python3"
  },
  "language_info": {
   "codemirror_mode": {
    "name": "ipython",
    "version": 3
   },
   "file_extension": ".py",
   "mimetype": "text/x-python",
   "name": "python",
   "nbconvert_exporter": "python",
   "pygments_lexer": "ipython3",
   "version": "3.7.3"
  }
 },
 "nbformat": 4,
 "nbformat_minor": 2
}
