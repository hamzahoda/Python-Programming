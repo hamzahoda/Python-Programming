{
 "cells": [
  {
   "cell_type": "code",
   "execution_count": 1,
   "metadata": {},
   "outputs": [
    {
     "name": "stdout",
     "output_type": "stream",
     "text": [
      "{'first_name': 'hamza', 'last_name': 'hoda', 'age': 18, 'city': 'karachi'}\n",
      "{'first_name': 'hamza', 'last_name': 'hoda', 'age': 18, 'city': 'karachi', 'qualification': 'intermediate'}\n",
      "{'first_name': 'hamza', 'last_name': 'hoda', 'age': 18, 'city': 'karachi', 'qualification': 'High Academic Level'}\n",
      "{'first_name': 'hamza', 'last_name': 'hoda', 'age': 18, 'city': 'karachi'}\n"
     ]
    }
   ],
   "source": [
    "# Part 1\n",
    "information = {\n",
    "    \"first_name\" : \"hamza\", \n",
    "    \"last_name\" : \"hoda\",\n",
    "    \"age\":18,\n",
    "    \"city\": \"karachi\"\n",
    "}\n",
    "print(information)\n",
    "information[\"qualification\"]=\"intermediate\"\n",
    "print(information)\n",
    "information[\"qualification\"]=\"High Academic Level\"\n",
    "print(information)\n",
    "del information[\"qualification\"]\n",
    "print(information)\n"
   ]
  },
  {
   "cell_type": "code",
   "execution_count": 2,
   "metadata": {},
   "outputs": [
    {
     "name": "stdout",
     "output_type": "stream",
     "text": [
      "{'country': 'pakistan', 'population': '20 million', 'fact': 'dirtiest city'}\n",
      "{'country': 'pakistan', 'population': '30 million', 'fact': 'capital city'}\n",
      "{'country': 'pakistan', 'population': '10 million', 'fact': 'cultural hub'}\n"
     ]
    }
   ],
   "source": [
    "# Part 2\n",
    "cities = {\n",
    "    \"karachi\":{ \n",
    "        \"country\" : \"pakistan\",\n",
    "        \"population\" : \"20 million\",\n",
    "        \"fact\" : \"dirtiest city\"  \n",
    "    },\n",
    "    \"islamabad\":{\n",
    "        \"country\" : \"pakistan\",\n",
    "        \"population\" : \"30 million\",\n",
    "        \"fact\" : \"capital city\"\n",
    "        },\n",
    "    \"peshawar\":{\n",
    "        \"country\" : \"pakistan\",\n",
    "        \"population\" : \"10 million\",\n",
    "        \"fact\" : \"cultural hub\"\n",
    "    }\n",
    "        \n",
    "    }\n",
    "print(cities[\"karachi\"])\n",
    "print(cities[\"islamabad\"])\n",
    "print(cities[\"peshawar\"])\n",
    "\n"
   ]
  },
  {
   "cell_type": "code",
   "execution_count": 3,
   "metadata": {},
   "outputs": [
    {
     "name": "stdout",
     "output_type": "stream",
     "text": [
      "3\n",
      "ticket is $10\n",
      "-2\n",
      "Enter correct age\n",
      "1\n",
      "ticket is free\n"
     ]
    }
   ],
   "source": [
    "# Part 3\n",
    "n = 3\n",
    "for i in range(n):\n",
    "    age=int(input())\n",
    "    if age<3 and age>0:\n",
    "        print(\"ticket is free\")\n",
    "        \n",
    "    elif age >=3 and age<=12:\n",
    "        print(\"ticket is $10\")\n",
    "        \n",
    "    elif age>12:\n",
    "        print(\"ticket is $15\")\n",
    "    else:\n",
    "        print(\"Enter correct age\")\n",
    "        "
   ]
  },
  {
   "cell_type": "code",
   "execution_count": 4,
   "metadata": {},
   "outputs": [
    {
     "name": "stdout",
     "output_type": "stream",
     "text": [
      "One of my favorite books is Alice in Wonderland\n"
     ]
    }
   ],
   "source": [
    "# Part 4\n",
    "def favorite_book(title):\n",
    "    print(\"One of my favorite books is\",title)\n",
    "    \n",
    "favorite_book(\"Alice in Wonderland\")    \n"
   ]
  },
  {
   "cell_type": "code",
   "execution_count": 5,
   "metadata": {},
   "outputs": [
    {
     "name": "stdout",
     "output_type": "stream",
     "text": [
      "Please enter your guess: 4\n",
      "Your guess is too low\n",
      "Please enter your guess: 10\n",
      "Your guess is too high\n",
      "Please enter your guess: 7\n",
      "Hit!\n",
      "Correct answer is 7\n"
     ]
    }
   ],
   "source": [
    "# Part 5\n",
    "import random\n",
    "\n",
    "hidden = random.randrange(1, 30) \n",
    "for i in range(3):\n",
    "    guess = int(input(\"Please enter your guess: \"))\n",
    "    if guess == hidden:\n",
    "        print(\"Hit!\")\n",
    "    elif guess < hidden:\n",
    "        print(\"Your guess is too low\")\n",
    "    elif guess > hidden:\n",
    "        print(\"Your guess is too high\")\n",
    "    \n",
    "print(\"Correct answer is\",hidden)\n"
   ]
  },
  {
   "cell_type": "markdown",
   "metadata": {},
   "source": [
    " "
   ]
  }
 ],
 "metadata": {
  "kernelspec": {
   "display_name": "Python 3",
   "language": "python",
   "name": "python3"
  },
  "language_info": {
   "codemirror_mode": {
    "name": "ipython",
    "version": 3
   },
   "file_extension": ".py",
   "mimetype": "text/x-python",
   "name": "python",
   "nbconvert_exporter": "python",
   "pygments_lexer": "ipython3",
   "version": "3.7.3"
  }
 },
 "nbformat": 4,
 "nbformat_minor": 2
}
