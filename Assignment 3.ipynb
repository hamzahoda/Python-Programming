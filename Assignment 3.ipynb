{
 "cells": [
  {
   "cell_type": "code",
   "execution_count": null,
   "metadata": {},
   "outputs": [],
   "source": [
    "# Part 1\n",
    "operator = input()\n",
    "if operator == \"+\":\n",
    "    val = val1 + val2\n",
    "    print(val)\n",
    "elif operator == \"-\":\n",
    "    val = val1 -val2\n",
    "    print(val)\n",
    "elif operator == \"*\":\n",
    "    val = val1 * val2\n",
    "    print(val)\n",
    "elif operator == \"/\":\n",
    "    val = val1 / val2\n",
    "    print(val)\n",
    "elif operator == \"**\":\n",
    "    val = val1 ** val2\n",
    "    print(val)\n",
    "else:\n",
    "    print(\"Enter valid operator\")"
   ]
  },
  {
   "cell_type": "code",
   "execution_count": null,
   "metadata": {},
   "outputs": [],
   "source": [
    "# Part 2\n",
    "for numeric in check_numeric:\n",
    "    if type(numeric) == int:\n",
    "        print(True)\n",
    "        break\n",
    "        "
   ]
  },
  {
   "cell_type": "code",
   "execution_count": null,
   "metadata": {},
   "outputs": [],
   "source": [
    "# Part 3\n",
    "dic = {}\n",
    "dic[var] = 0\n",
    "print(dic)"
   ]
  },
  {
   "cell_type": "code",
   "execution_count": null,
   "metadata": {},
   "outputs": [],
   "source": [
    "# Part 4\n",
    "s = 0\n",
    "\n",
    "for i in dic.values():\n",
    "    s+=i\n",
    "print(s)"
   ]
  },
  {
   "cell_type": "code",
   "execution_count": null,
   "metadata": {},
   "outputs": [],
   "source": [
    "# Part 5\n",
    "unique = []\n",
    "duplicate = []\n",
    "for i in lst:\n",
    "    if i not in unique:\n",
    "        unique.append(i)\n",
    "    else:\n",
    "        duplicate.append(i)\n",
    "print(duplicate)"
   ]
  },
  {
   "cell_type": "code",
   "execution_count": null,
   "metadata": {},
   "outputs": [],
   "source": [
    "# Part 6\n",
    "\n",
    "dic = {'a':2,'b':2,'c':3}\n",
    "lst = dic.values()\n",
    "unique = []\n",
    "duplicate = []\n",
    "for i in lst:\n",
    "    if i not in unique:\n",
    "        unique.append(i)\n",
    "    else:\n",
    "        duplicate.append(i)\n",
    "print(duplicate)"
   ]
  }
 ],
 "metadata": {
  "kernelspec": {
   "display_name": "Python 3",
   "language": "python",
   "name": "python3"
  },
  "language_info": {
   "codemirror_mode": {
    "name": "ipython",
    "version": 3
   },
   "file_extension": ".py",
   "mimetype": "text/x-python",
   "name": "python",
   "nbconvert_exporter": "python",
   "pygments_lexer": "ipython3",
   "version": "3.7.3"
  }
 },
 "nbformat": 4,
 "nbformat_minor": 2
}
